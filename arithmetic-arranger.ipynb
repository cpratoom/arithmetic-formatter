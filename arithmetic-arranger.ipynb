{
 "cells": [
  {
   "cell_type": "code",
   "execution_count": 2,
   "metadata": {},
   "outputs": [],
   "source": [
    "import numpy as np\n",
    "import re\n",
    "\n",
    "#arithmetic_arranger([\"32 + 8\", \"1 - 3801\", \"9999 + 9999\", \"523 - 49\"], True)"
   ]
  },
  {
   "cell_type": "code",
   "execution_count": 1,
   "metadata": {},
   "outputs": [
    {
     "name": "stdout",
     "output_type": "stream",
     "text": [
      "4\n"
     ]
    }
   ],
   "source": [
    "problems = [\"32 + 8\", \"1 - 3801\", \"9999 + 9999\", \"523 - 49\"]\n",
    "\n",
    "print(len(problems))\n",
    "if(len(problems)>5):\n",
    "    print('ERROR: Too many problems')\n"
   ]
  },
  {
   "cell_type": "code",
   "execution_count": 37,
   "metadata": {},
   "outputs": [
    {
     "name": "stdout",
     "output_type": "stream",
     "text": [
      "None 1\n",
      "523\n",
      "*\n",
      "49\n"
     ]
    }
   ],
   "source": [
    "problems = [\"32 + 8\", \"1 - 3801\", \"9999 + 9999\", \"523 - 49\", \"523 * 49\"]\n",
    "\n",
    "pattern_as = '(\\d+)\\s*([+-])\\s*(\\d+)'\n",
    "pattern_td = '(\\d+)\\s*([*/])\\s*(\\d+)'\n",
    "#pattern = '\\d+'\n",
    "problem = problems[4]\n",
    "\n",
    "if re.match(pattern_as, problem):\n",
    "    match_as = 1\n",
    "    match = re.match(pattern_as, problem)\n",
    "elif re.match(pattern_td, problem):\n",
    "    match_td = 1\n",
    "    match = re.match(pattern_td, problem)\n",
    "else:\n",
    "    match_as = 0\n",
    "    match_td = 0\n",
    "\n",
    "print(match_as, match_td)\n",
    "for group in match.groups():\n",
    "    print(group)\n"
   ]
  },
  {
   "cell_type": "code",
   "execution_count": 153,
   "metadata": {},
   "outputs": [
    {
     "name": "stdout",
     "output_type": "stream",
     "text": [
      "Error: Numbers must only contain digits.\n"
     ]
    }
   ],
   "source": [
    "def arithmetic_arranger(problems, compute=False):\n",
    "    top = \"\"\n",
    "    bot = \"\"\n",
    "    sep = \"\"\n",
    "    ans = \"\"\n",
    "\n",
    "    if len(problems) > 5:\n",
    "        errmsg = \"Error: Too many problems\"\n",
    "        return errmsg\n",
    "    else:\n",
    "        for problem in problems:\n",
    "            one, op, two = problem.split()\n",
    "            \n",
    "            if not (one.isnumeric() and two.isnumeric()):\n",
    "                errmsg = \"Error: Numbers must only contain digits.\"\n",
    "                return errmsg\n",
    "            elif not (op=='+' or op=='-'):\n",
    "                errmsg = \"Error: Operator must be '+' or '-'.\" \n",
    "                return errmsg\n",
    "            else:\n",
    "                if len(one)>4 or len(two)>4:\n",
    "                    errmsg = \"Error: Numbers cannot be more than four digits.\"\n",
    "                    return errmsg\n",
    "                else: \n",
    "                    errmsg = 'OK.'\n",
    "                    \n",
    "                    fac = (1 if op=='+' else -1)\n",
    "                    width = 2+ max(len(one), len(two))\n",
    "                    \n",
    "                    if problem==problems[-1]:\n",
    "                        trail = \"\"\n",
    "                    else:\n",
    "                        trail = \" \"*4\n",
    "                        \n",
    "                    top += one.rjust(width, ' ') + trail\n",
    "                    bot += op.ljust(width-len(two),' ') + two + trail\n",
    "                    sep += ''.rjust(width, '-') + trail\n",
    "                    ans += str( int(one) + fac*int(two) ).rjust(width, ' ') + trail\n",
    "                    \n",
    "                    if compute:\n",
    "                        arranged_problems = \\\n",
    "                        top + \"\\n\" + \\\n",
    "                        bot + \"\\n\" + \\\n",
    "                        sep + \"\\n\" + \\\n",
    "                        ans\n",
    "                    else:\n",
    "                        arranged_problems = \\\n",
    "                        top + \"\\n\" + \\\n",
    "                        bot + \"\\n\" + \\\n",
    "                        sep\n",
    "    \n",
    "    return arranged_problems\n",
    "    \n",
    "\n",
    "problems = [\"98 + 3g5\", \"3801 - 2\", \"45 + 43\", \"123 + 49\"]\n",
    "crap = arithmetic_arranger(problems)\n",
    "print(crap)"
   ]
  },
  {
   "cell_type": "code",
   "execution_count": null,
   "metadata": {},
   "outputs": [],
   "source": [
    "# \"Error: Too many problems.\"\n",
    "[\"44 + 815\", \"909 - 2\", \"45 + 43\", \"123 + 49\", \"888 + 40\", \"653 + 87\"]\n",
    "\n",
    "# \"Error: Operator must be '+' or '-'.\"\n",
    "[\"3 / 855\", \"3801 - 2\", \"45 + 43\", \"123 + 49\"]\n",
    "\n",
    "# \"Error: Numbers cannot be more than four digits.\"\n",
    "[\"24 + 85215\", \"3801 - 2\", \"45 + 43\", \"123 + 49\"]\n",
    "\n",
    "# \"Error: Numbers must only contain digits.\"\n",
    "[\"98 + 3g5\", \"3801 - 2\", \"45 + 43\", \"123 + 49\"]\n",
    "\n",
    "# "
   ]
  }
 ],
 "metadata": {
  "kernelspec": {
   "display_name": "Python 3",
   "language": "python",
   "name": "python3"
  },
  "language_info": {
   "codemirror_mode": {
    "name": "ipython",
    "version": 3
   },
   "file_extension": ".py",
   "mimetype": "text/x-python",
   "name": "python",
   "nbconvert_exporter": "python",
   "pygments_lexer": "ipython3",
   "version": "3.7.6"
  }
 },
 "nbformat": 4,
 "nbformat_minor": 4
}
